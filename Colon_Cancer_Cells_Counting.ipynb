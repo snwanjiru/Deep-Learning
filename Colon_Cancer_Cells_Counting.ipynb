{
  "nbformat": 4,
  "nbformat_minor": 0,
  "metadata": {
    "colab": {
      "provenance": [],
      "toc_visible": true,
      "authorship_tag": "ABX9TyOWdN6fkfzXEBzodSfLL3qJ",
      "include_colab_link": true
    },
    "kernelspec": {
      "name": "python3",
      "display_name": "Python 3"
    },
    "language_info": {
      "name": "python"
    }
  },
  "cells": [
    {
      "cell_type": "markdown",
      "metadata": {
        "id": "view-in-github",
        "colab_type": "text"
      },
      "source": [
        "<a href=\"https://colab.research.google.com/github/snwanjiru/Deep-Learning/blob/Biomedical-Image-Analysis/Colon_Cancer_Cells_Counting.ipynb\" target=\"_parent\"><img src=\"https://colab.research.google.com/assets/colab-badge.svg\" alt=\"Open In Colab\"/></a>"
      ]
    },
    {
      "cell_type": "markdown",
      "source": [
        "## Import Required Libraries"
      ],
      "metadata": {
        "id": "QUBa9IrYF8Rc"
      }
    },
    {
      "cell_type": "code",
      "source": [
        "# Import libraries for direct counting\n",
        "import tensorflow as tf\n",
        "import numpy as np\n",
        "import pandas as pd\n",
        "from sklearn.model_selection import train_test_split\n",
        "import matplotlib.pyplot as plt\n",
        "from tensorflow.keras.models import Sequential\n",
        "from tensorflow.keras.layers import Conv2D, MaxPooling2D, Flatten, Dense, Dropout\n",
        "from tensorflow.keras.preprocessing.image import ImageDataGenerator\n",
        "from tensorflow.keras.callbacks import ModelCheckpoint, EarlyStopping\n",
        "\n",
        "# File paths\n",
        "image_folder_path = \"/content/drive/MyDrive/HT29_Colon_Cancer_Images\"  # Path to the folder containing images\n",
        "txt_file_path = \"/content/drive/MyDrive/BBBC001_v1_counts_ground_truth.txt\"  # Path to the ground truth file"
      ],
      "metadata": {
        "id": "mRKIm1DXGBsM"
      },
      "execution_count": 2,
      "outputs": []
    },
    {
      "cell_type": "markdown",
      "source": [
        "# Ground Truth Processing\n"
      ],
      "metadata": {
        "id": "FKUJKa0eLbKo"
      }
    },
    {
      "cell_type": "code",
      "source": [
        "# Load ground truth data\n",
        "def load_ground_truth(txt_file_path, image_folder_path):\n",
        "    # Read the ground truth file\n",
        "    data = pd.read_csv(txt_file_path, sep=\"\\t\")  # Adjust the separator if necessary (e.g., sep=\"\\s+\" or sep=\",\")\n",
        "\n",
        "    # Print column names for debugging\n",
        "    print(\"Column names:\", data.columns.tolist())\n",
        "\n",
        "    # Standardize column names to match expected names\n",
        "    data.columns = data.columns.str.strip()  # Remove extra spaces\n",
        "\n",
        "    # Check if the expected columns are present\n",
        "    if 'manual count #1' not in data.columns or 'manual count #2' not in data.columns:\n",
        "        raise ValueError(\"Expected columns 'manual count #1' and 'manual count #2' are missing. Found columns:\", data.columns)\n",
        "\n",
        "    # Compute the average count\n",
        "    data['average_count'] = data[['manual count #1', 'manual count #2']].mean(axis=1)\n",
        "\n",
        "    # Append the folder path to image names with correct separator\n",
        "    data['Image'] = image_folder_path + '/' + data['Image'] # This line is changed to add '/'\n",
        "\n",
        "    return data['Image'].tolist(), data['average_count'].tolist()\n",
        "\n",
        "# File paths\n",
        "txt_file_path = \"/content/drive/MyDrive/BBBC001_v1_counts_ground_truth.txt\"  # Replace with the correct path\n",
        "image_folder_path = \"/content/drive/MyDrive/HT29_Colon_Cancer_Images\"  # Replace with the correct path\n",
        "\n",
        "# Load the data\n",
        "image_paths, labels = load_ground_truth(txt_file_path, image_folder_path)\n"
      ],
      "metadata": {
        "colab": {
          "base_uri": "https://localhost:8080/"
        },
        "id": "keyE0IwgLgXu",
        "outputId": "f1dfe242-d0b6-4a32-9580-ccf25a487408"
      },
      "execution_count": 16,
      "outputs": [
        {
          "output_type": "stream",
          "name": "stdout",
          "text": [
            "Column names: ['              Image', '             manual count #1', 'manual count #2']\n"
          ]
        }
      ]
    },
    {
      "cell_type": "markdown",
      "source": [
        "# Image Preprocessing"
      ],
      "metadata": {
        "id": "taZXYWm2LoeZ"
      }
    },
    {
      "cell_type": "code",
      "source": [
        "# Preprocess images\n",
        "def preprocess_images(image_paths, target_size=(128, 128)):\n",
        "    images = []\n",
        "    for path in image_paths:\n",
        "        img = tf.keras.preprocessing.image.load_img(path, color_mode='grayscale', target_size=target_size)\n",
        "        img = tf.keras.preprocessing.image.img_to_array(img) / 255.0  # Normalize to [0, 1]\n",
        "        images.append(img)\n",
        "    return np.array(images)\n",
        "\n",
        "# Prepare images\n",
        "images = preprocess_images(image_paths)\n",
        "\n",
        "# Split data into training, validation, and test sets\n",
        "train_images, test_images, train_labels, test_labels = train_test_split(\n",
        "    images, labels, test_size=0.2, random_state=42\n",
        ")\n",
        "train_images, val_images, train_labels, val_labels = train_test_split(\n",
        "    train_images, train_labels, test_size=0.25, random_state=42\n",
        ")\n"
      ],
      "metadata": {
        "id": "82IjDMExLp3v"
      },
      "execution_count": 17,
      "outputs": []
    },
    {
      "cell_type": "markdown",
      "source": [
        "# Model Definition"
      ],
      "metadata": {
        "id": "Y2wS1CcWLuLI"
      }
    },
    {
      "cell_type": "code",
      "source": [
        "# Define a simple CNN for regression\n",
        "def build_cnn(input_shape):\n",
        "    model = Sequential([\n",
        "        Conv2D(32, (3, 3), activation='relu', input_shape=input_shape),\n",
        "        MaxPooling2D((2, 2)),\n",
        "        Conv2D(64, (3, 3), activation='relu'),\n",
        "        MaxPooling2D((2, 2)),\n",
        "        Conv2D(128, (3, 3), activation='relu'),\n",
        "        MaxPooling2D((2, 2)),\n",
        "        Flatten(),\n",
        "        Dense(128, activation='relu'),\n",
        "        Dropout(0.5),\n",
        "        Dense(1, activation='linear')  # Output single value (cell count)\n",
        "    ])\n",
        "    return model\n",
        "\n",
        "# Build and compile the model\n",
        "input_shape = (128, 128, 1)  # Grayscale images\n",
        "model = build_cnn(input_shape)\n",
        "model.compile(optimizer=tf.keras.optimizers.Adam(learning_rate=1e-4), loss='mean_squared_error', metrics=['mae'])"
      ],
      "metadata": {
        "colab": {
          "base_uri": "https://localhost:8080/"
        },
        "id": "Yl8ogH18LzHQ",
        "outputId": "c2474381-5612-468f-e1c1-46bd49f953ed"
      },
      "execution_count": 18,
      "outputs": [
        {
          "output_type": "stream",
          "name": "stderr",
          "text": [
            "/usr/local/lib/python3.10/dist-packages/keras/src/layers/convolutional/base_conv.py:107: UserWarning: Do not pass an `input_shape`/`input_dim` argument to a layer. When using Sequential models, prefer using an `Input(shape)` object as the first layer in the model instead.\n",
            "  super().__init__(activity_regularizer=activity_regularizer, **kwargs)\n"
          ]
        }
      ]
    },
    {
      "cell_type": "markdown",
      "source": [
        "# Data Augmentation"
      ],
      "metadata": {
        "id": "EjfwUV-SL7kY"
      }
    },
    {
      "cell_type": "code",
      "source": [
        "# Data augmentation for training\n",
        "datagen = ImageDataGenerator(\n",
        "    rotation_range=20,\n",
        "    width_shift_range=0.1,\n",
        "    height_shift_range=0.1,\n",
        "    zoom_range=0.1,\n",
        "    horizontal_flip=True,\n",
        "    fill_mode='nearest'\n",
        ")"
      ],
      "metadata": {
        "id": "832-P7XeL_ZA"
      },
      "execution_count": 19,
      "outputs": []
    },
    {
      "cell_type": "markdown",
      "source": [
        "# Training"
      ],
      "metadata": {
        "id": "UAvpYwCMMCOQ"
      }
    },
    {
      "cell_type": "code",
      "source": [
        "# Define callbacks\n",
        "checkpoint = ModelCheckpoint(\"cnn_model.keras\", monitor='val_loss', save_best_only=True, mode='min')\n",
        "early_stopping = EarlyStopping(monitor='val_loss', patience=10, restore_best_weights=True)\n",
        "\n",
        "# Train the model\n",
        "history = model.fit(\n",
        "    datagen.flow(train_images, np.array(train_labels), batch_size=8),\n",
        "    validation_data=(val_images, np.array(val_labels)),\n",
        "    epochs=100,\n",
        "    callbacks=[checkpoint, early_stopping]\n",
        ")"
      ],
      "metadata": {
        "colab": {
          "base_uri": "https://localhost:8080/"
        },
        "id": "gMAV_JcHMHxN",
        "outputId": "3934ce4e-a09c-4b81-e21e-87a8e5a9a67c"
      },
      "execution_count": 21,
      "outputs": [
        {
          "output_type": "stream",
          "name": "stdout",
          "text": [
            "Epoch 1/100\n"
          ]
        },
        {
          "output_type": "stream",
          "name": "stderr",
          "text": [
            "/usr/local/lib/python3.10/dist-packages/keras/src/trainers/data_adapters/py_dataset_adapter.py:122: UserWarning: Your `PyDataset` class should call `super().__init__(**kwargs)` in its constructor. `**kwargs` can include `workers`, `use_multiprocessing`, `max_queue_size`. Do not pass these arguments to `fit()`, as they will be ignored.\n",
            "  self._warn_if_super_not_called()\n"
          ]
        },
        {
          "output_type": "stream",
          "name": "stdout",
          "text": [
            "\u001b[1m1/1\u001b[0m \u001b[32m━━━━━━━━━━━━━━━━━━━━\u001b[0m\u001b[37m\u001b[0m \u001b[1m5s\u001b[0m 5s/step - loss: 129326.3125 - mae: 348.3600 - val_loss: 177564.1406 - val_mae: 421.3836\n",
            "Epoch 2/100\n",
            "\u001b[1m1/1\u001b[0m \u001b[32m━━━━━━━━━━━━━━━━━━━━\u001b[0m\u001b[37m\u001b[0m \u001b[1m0s\u001b[0m 434ms/step - loss: 129233.4375 - mae: 348.2350 - val_loss: 177455.4688 - val_mae: 421.2546\n",
            "Epoch 3/100\n",
            "\u001b[1m1/1\u001b[0m \u001b[32m━━━━━━━━━━━━━━━━━━━━\u001b[0m\u001b[37m\u001b[0m \u001b[1m1s\u001b[0m 628ms/step - loss: 129144.2891 - mae: 348.1075 - val_loss: 177342.6719 - val_mae: 421.1207\n",
            "Epoch 4/100\n",
            "\u001b[1m1/1\u001b[0m \u001b[32m━━━━━━━━━━━━━━━━━━━━\u001b[0m\u001b[37m\u001b[0m \u001b[1m0s\u001b[0m 419ms/step - loss: 129120.4141 - mae: 348.0730 - val_loss: 177210.7812 - val_mae: 420.9641\n",
            "Epoch 5/100\n",
            "\u001b[1m1/1\u001b[0m \u001b[32m━━━━━━━━━━━━━━━━━━━━\u001b[0m\u001b[37m\u001b[0m \u001b[1m1s\u001b[0m 671ms/step - loss: 129022.5859 - mae: 347.9412 - val_loss: 177070.1719 - val_mae: 420.7971\n",
            "Epoch 6/100\n",
            "\u001b[1m1/1\u001b[0m \u001b[32m━━━━━━━━━━━━━━━━━━━━\u001b[0m\u001b[37m\u001b[0m \u001b[1m1s\u001b[0m 519ms/step - loss: 128937.4141 - mae: 347.8200 - val_loss: 176914.0156 - val_mae: 420.6115\n",
            "Epoch 7/100\n",
            "\u001b[1m1/1\u001b[0m \u001b[32m━━━━━━━━━━━━━━━━━━━━\u001b[0m\u001b[37m\u001b[0m \u001b[1m1s\u001b[0m 606ms/step - loss: 128798.9609 - mae: 347.6117 - val_loss: 176737.4375 - val_mae: 420.4015\n",
            "Epoch 8/100\n",
            "\u001b[1m1/1\u001b[0m \u001b[32m━━━━━━━━━━━━━━━━━━━━\u001b[0m\u001b[37m\u001b[0m \u001b[1m1s\u001b[0m 628ms/step - loss: 128639.0703 - mae: 347.4003 - val_loss: 176536.8906 - val_mae: 420.1629\n",
            "Epoch 9/100\n",
            "\u001b[1m1/1\u001b[0m \u001b[32m━━━━━━━━━━━━━━━━━━━━\u001b[0m\u001b[37m\u001b[0m \u001b[1m0s\u001b[0m 437ms/step - loss: 128509.1875 - mae: 347.2299 - val_loss: 176313.0625 - val_mae: 419.8965\n",
            "Epoch 10/100\n",
            "\u001b[1m1/1\u001b[0m \u001b[32m━━━━━━━━━━━━━━━━━━━━\u001b[0m\u001b[37m\u001b[0m \u001b[1m0s\u001b[0m 366ms/step - loss: 128349.6016 - mae: 346.9931 - val_loss: 176061.0469 - val_mae: 419.5963\n",
            "Epoch 11/100\n",
            "\u001b[1m1/1\u001b[0m \u001b[32m━━━━━━━━━━━━━━━━━━━━\u001b[0m\u001b[37m\u001b[0m \u001b[1m1s\u001b[0m 650ms/step - loss: 128330.5000 - mae: 346.9130 - val_loss: 175781.8281 - val_mae: 419.2634\n",
            "Epoch 12/100\n",
            "\u001b[1m1/1\u001b[0m \u001b[32m━━━━━━━━━━━━━━━━━━━━\u001b[0m\u001b[37m\u001b[0m \u001b[1m0s\u001b[0m 389ms/step - loss: 128073.9297 - mae: 346.5710 - val_loss: 175472.1719 - val_mae: 418.8940\n",
            "Epoch 13/100\n",
            "\u001b[1m1/1\u001b[0m \u001b[32m━━━━━━━━━━━━━━━━━━━━\u001b[0m\u001b[37m\u001b[0m \u001b[1m0s\u001b[0m 417ms/step - loss: 127842.1875 - mae: 346.3013 - val_loss: 175128.7188 - val_mae: 418.4838\n",
            "Epoch 14/100\n",
            "\u001b[1m1/1\u001b[0m \u001b[32m━━━━━━━━━━━━━━━━━━━━\u001b[0m\u001b[37m\u001b[0m \u001b[1m0s\u001b[0m 382ms/step - loss: 127866.6641 - mae: 346.2468 - val_loss: 174749.6406 - val_mae: 418.0307\n",
            "Epoch 15/100\n",
            "\u001b[1m1/1\u001b[0m \u001b[32m━━━━━━━━━━━━━━━━━━━━\u001b[0m\u001b[37m\u001b[0m \u001b[1m1s\u001b[0m 604ms/step - loss: 127361.1875 - mae: 345.6107 - val_loss: 174327.9062 - val_mae: 417.5259\n",
            "Epoch 16/100\n",
            "\u001b[1m1/1\u001b[0m \u001b[32m━━━━━━━━━━━━━━━━━━━━\u001b[0m\u001b[37m\u001b[0m \u001b[1m1s\u001b[0m 608ms/step - loss: 126788.1016 - mae: 344.9023 - val_loss: 173860.2656 - val_mae: 416.9655\n",
            "Epoch 17/100\n",
            "\u001b[1m1/1\u001b[0m \u001b[32m━━━━━━━━━━━━━━━━━━━━\u001b[0m\u001b[37m\u001b[0m \u001b[1m1s\u001b[0m 628ms/step - loss: 126455.2578 - mae: 344.3490 - val_loss: 173342.9844 - val_mae: 416.3448\n",
            "Epoch 18/100\n",
            "\u001b[1m1/1\u001b[0m \u001b[32m━━━━━━━━━━━━━━━━━━━━\u001b[0m\u001b[37m\u001b[0m \u001b[1m0s\u001b[0m 413ms/step - loss: 126253.7266 - mae: 344.1266 - val_loss: 172774.0000 - val_mae: 415.6609\n",
            "Epoch 19/100\n",
            "\u001b[1m1/1\u001b[0m \u001b[32m━━━━━━━━━━━━━━━━━━━━\u001b[0m\u001b[37m\u001b[0m \u001b[1m0s\u001b[0m 404ms/step - loss: 125432.9375 - mae: 342.9302 - val_loss: 172144.4688 - val_mae: 414.9030\n",
            "Epoch 20/100\n",
            "\u001b[1m1/1\u001b[0m \u001b[32m━━━━━━━━━━━━━━━━━━━━\u001b[0m\u001b[37m\u001b[0m \u001b[1m1s\u001b[0m 723ms/step - loss: 126086.4297 - mae: 343.7943 - val_loss: 171456.8750 - val_mae: 414.0735\n",
            "Epoch 21/100\n",
            "\u001b[1m1/1\u001b[0m \u001b[32m━━━━━━━━━━━━━━━━━━━━\u001b[0m\u001b[37m\u001b[0m \u001b[1m1s\u001b[0m 586ms/step - loss: 124330.2500 - mae: 341.5500 - val_loss: 170696.9062 - val_mae: 413.1548\n",
            "Epoch 22/100\n",
            "\u001b[1m1/1\u001b[0m \u001b[32m━━━━━━━━━━━━━━━━━━━━\u001b[0m\u001b[37m\u001b[0m \u001b[1m1s\u001b[0m 568ms/step - loss: 124908.3672 - mae: 342.2705 - val_loss: 169866.8594 - val_mae: 412.1491\n",
            "Epoch 23/100\n",
            "\u001b[1m1/1\u001b[0m \u001b[32m━━━━━━━━━━━━━━━━━━━━\u001b[0m\u001b[37m\u001b[0m \u001b[1m1s\u001b[0m 615ms/step - loss: 124309.0391 - mae: 341.2049 - val_loss: 168960.9062 - val_mae: 411.0486\n",
            "Epoch 24/100\n",
            "\u001b[1m1/1\u001b[0m \u001b[32m━━━━━━━━━━━━━━━━━━━━\u001b[0m\u001b[37m\u001b[0m \u001b[1m1s\u001b[0m 655ms/step - loss: 122930.1016 - mae: 339.2976 - val_loss: 167967.7188 - val_mae: 409.8387\n",
            "Epoch 25/100\n",
            "\u001b[1m1/1\u001b[0m \u001b[32m━━━━━━━━━━━━━━━━━━━━\u001b[0m\u001b[37m\u001b[0m \u001b[1m1s\u001b[0m 599ms/step - loss: 123300.3984 - mae: 339.4580 - val_loss: 166885.6406 - val_mae: 408.5164\n",
            "Epoch 26/100\n",
            "\u001b[1m1/1\u001b[0m \u001b[32m━━━━━━━━━━━━━━━━━━━━\u001b[0m\u001b[37m\u001b[0m \u001b[1m1s\u001b[0m 604ms/step - loss: 121340.0312 - mae: 337.3589 - val_loss: 165694.3906 - val_mae: 407.0558\n",
            "Epoch 27/100\n",
            "\u001b[1m1/1\u001b[0m \u001b[32m━━━━━━━━━━━━━━━━━━━━\u001b[0m\u001b[37m\u001b[0m \u001b[1m1s\u001b[0m 563ms/step - loss: 120909.0391 - mae: 337.0057 - val_loss: 164394.6562 - val_mae: 405.4561\n",
            "Epoch 28/100\n",
            "\u001b[1m1/1\u001b[0m \u001b[32m━━━━━━━━━━━━━━━━━━━━\u001b[0m\u001b[37m\u001b[0m \u001b[1m1s\u001b[0m 645ms/step - loss: 119889.9922 - mae: 335.0892 - val_loss: 162977.0938 - val_mae: 403.7042\n",
            "Epoch 29/100\n",
            "\u001b[1m1/1\u001b[0m \u001b[32m━━━━━━━━━━━━━━━━━━━━\u001b[0m\u001b[37m\u001b[0m \u001b[1m0s\u001b[0m 390ms/step - loss: 119991.9062 - mae: 335.0600 - val_loss: 161429.5156 - val_mae: 401.7829\n",
            "Epoch 30/100\n",
            "\u001b[1m1/1\u001b[0m \u001b[32m━━━━━━━━━━━━━━━━━━━━\u001b[0m\u001b[37m\u001b[0m \u001b[1m1s\u001b[0m 629ms/step - loss: 119334.5312 - mae: 334.2952 - val_loss: 159747.2500 - val_mae: 399.6839\n",
            "Epoch 31/100\n",
            "\u001b[1m1/1\u001b[0m \u001b[32m━━━━━━━━━━━━━━━━━━━━\u001b[0m\u001b[37m\u001b[0m \u001b[1m0s\u001b[0m 399ms/step - loss: 117650.3516 - mae: 331.4744 - val_loss: 157917.1719 - val_mae: 397.3879\n",
            "Epoch 32/100\n",
            "\u001b[1m1/1\u001b[0m \u001b[32m━━━━━━━━━━━━━━━━━━━━\u001b[0m\u001b[37m\u001b[0m \u001b[1m1s\u001b[0m 604ms/step - loss: 112327.9375 - mae: 324.8245 - val_loss: 155916.8906 - val_mae: 394.8631\n",
            "Epoch 33/100\n",
            "\u001b[1m1/1\u001b[0m \u001b[32m━━━━━━━━━━━━━━━━━━━━\u001b[0m\u001b[37m\u001b[0m \u001b[1m0s\u001b[0m 383ms/step - loss: 114244.4766 - mae: 326.7661 - val_loss: 153746.8594 - val_mae: 392.1057\n",
            "Epoch 34/100\n",
            "\u001b[1m1/1\u001b[0m \u001b[32m━━━━━━━━━━━━━━━━━━━━\u001b[0m\u001b[37m\u001b[0m \u001b[1m0s\u001b[0m 408ms/step - loss: 112930.5547 - mae: 324.1780 - val_loss: 151400.4062 - val_mae: 389.1021\n",
            "Epoch 35/100\n",
            "\u001b[1m1/1\u001b[0m \u001b[32m━━━━━━━━━━━━━━━━━━━━\u001b[0m\u001b[37m\u001b[0m \u001b[1m1s\u001b[0m 603ms/step - loss: 112575.7500 - mae: 323.9914 - val_loss: 148875.7812 - val_mae: 385.8442\n",
            "Epoch 36/100\n",
            "\u001b[1m1/1\u001b[0m \u001b[32m━━━━━━━━━━━━━━━━━━━━\u001b[0m\u001b[37m\u001b[0m \u001b[1m0s\u001b[0m 393ms/step - loss: 111395.3359 - mae: 321.4770 - val_loss: 146161.2812 - val_mae: 382.3105\n",
            "Epoch 37/100\n",
            "\u001b[1m1/1\u001b[0m \u001b[32m━━━━━━━━━━━━━━━━━━━━\u001b[0m\u001b[37m\u001b[0m \u001b[1m1s\u001b[0m 597ms/step - loss: 108040.8984 - mae: 316.7386 - val_loss: 143244.4844 - val_mae: 378.4765\n",
            "Epoch 38/100\n",
            "\u001b[1m1/1\u001b[0m \u001b[32m━━━━━━━━━━━━━━━━━━━━\u001b[0m\u001b[37m\u001b[0m \u001b[1m1s\u001b[0m 648ms/step - loss: 106005.1172 - mae: 315.3437 - val_loss: 140109.4062 - val_mae: 374.3119\n",
            "Epoch 39/100\n",
            "\u001b[1m1/1\u001b[0m \u001b[32m━━━━━━━━━━━━━━━━━━━━\u001b[0m\u001b[37m\u001b[0m \u001b[1m1s\u001b[0m 629ms/step - loss: 105375.4766 - mae: 313.4120 - val_loss: 136758.7500 - val_mae: 369.8091\n",
            "Epoch 40/100\n",
            "\u001b[1m1/1\u001b[0m \u001b[32m━━━━━━━━━━━━━━━━━━━━\u001b[0m\u001b[37m\u001b[0m \u001b[1m1s\u001b[0m 599ms/step - loss: 97060.2266 - mae: 302.0690 - val_loss: 133149.3125 - val_mae: 364.8963\n",
            "Epoch 41/100\n",
            "\u001b[1m1/1\u001b[0m \u001b[32m━━━━━━━━━━━━━━━━━━━━\u001b[0m\u001b[37m\u001b[0m \u001b[1m1s\u001b[0m 644ms/step - loss: 93514.2109 - mae: 295.6795 - val_loss: 129274.7266 - val_mae: 359.5479\n",
            "Epoch 42/100\n",
            "\u001b[1m1/1\u001b[0m \u001b[32m━━━━━━━━━━━━━━━━━━━━\u001b[0m\u001b[37m\u001b[0m \u001b[1m1s\u001b[0m 573ms/step - loss: 100092.8750 - mae: 305.9522 - val_loss: 125187.4766 - val_mae: 353.8184\n",
            "Epoch 43/100\n",
            "\u001b[1m1/1\u001b[0m \u001b[32m━━━━━━━━━━━━━━━━━━━━\u001b[0m\u001b[37m\u001b[0m \u001b[1m0s\u001b[0m 434ms/step - loss: 91371.5859 - mae: 291.0330 - val_loss: 120851.8438 - val_mae: 347.6375\n",
            "Epoch 44/100\n",
            "\u001b[1m1/1\u001b[0m \u001b[32m━━━━━━━━━━━━━━━━━━━━\u001b[0m\u001b[37m\u001b[0m \u001b[1m1s\u001b[0m 589ms/step - loss: 89110.6562 - mae: 286.4148 - val_loss: 116270.3438 - val_mae: 340.9844\n",
            "Epoch 45/100\n",
            "\u001b[1m1/1\u001b[0m \u001b[32m━━━━━━━━━━━━━━━━━━━━\u001b[0m\u001b[37m\u001b[0m \u001b[1m0s\u001b[0m 452ms/step - loss: 78211.2344 - mae: 272.3103 - val_loss: 111382.7500 - val_mae: 333.7405\n",
            "Epoch 46/100\n",
            "\u001b[1m1/1\u001b[0m \u001b[32m━━━━━━━━━━━━━━━━━━━━\u001b[0m\u001b[37m\u001b[0m \u001b[1m1s\u001b[0m 574ms/step - loss: 80154.7109 - mae: 273.9779 - val_loss: 106243.2891 - val_mae: 325.9498\n",
            "Epoch 47/100\n",
            "\u001b[1m1/1\u001b[0m \u001b[32m━━━━━━━━━━━━━━━━━━━━\u001b[0m\u001b[37m\u001b[0m \u001b[1m0s\u001b[0m 468ms/step - loss: 83771.8594 - mae: 280.0087 - val_loss: 100891.8672 - val_mae: 317.6348\n",
            "Epoch 48/100\n",
            "\u001b[1m1/1\u001b[0m \u001b[32m━━━━━━━━━━━━━━━━━━━━\u001b[0m\u001b[37m\u001b[0m \u001b[1m1s\u001b[0m 553ms/step - loss: 72230.5469 - mae: 258.5794 - val_loss: 95283.1875 - val_mae: 308.6797\n",
            "Epoch 49/100\n",
            "\u001b[1m1/1\u001b[0m \u001b[32m━━━━━━━━━━━━━━━━━━━━\u001b[0m\u001b[37m\u001b[0m \u001b[1m1s\u001b[0m 644ms/step - loss: 69274.3516 - mae: 250.6965 - val_loss: 89453.6797 - val_mae: 299.0881\n",
            "Epoch 50/100\n",
            "\u001b[1m1/1\u001b[0m \u001b[32m━━━━━━━━━━━━━━━━━━━━\u001b[0m\u001b[37m\u001b[0m \u001b[1m1s\u001b[0m 539ms/step - loss: 66594.7578 - mae: 246.1746 - val_loss: 83421.1953 - val_mae: 288.8273\n",
            "Epoch 51/100\n",
            "\u001b[1m1/1\u001b[0m \u001b[32m━━━━━━━━━━━━━━━━━━━━\u001b[0m\u001b[37m\u001b[0m \u001b[1m1s\u001b[0m 608ms/step - loss: 66184.8359 - mae: 248.2421 - val_loss: 77223.7109 - val_mae: 277.8915\n",
            "Epoch 52/100\n",
            "\u001b[1m1/1\u001b[0m \u001b[32m━━━━━━━━━━━━━━━━━━━━\u001b[0m\u001b[37m\u001b[0m \u001b[1m1s\u001b[0m 624ms/step - loss: 55490.1250 - mae: 225.8364 - val_loss: 70857.0391 - val_mae: 266.1898\n",
            "Epoch 53/100\n",
            "\u001b[1m1/1\u001b[0m \u001b[32m━━━━━━━━━━━━━━━━━━━━\u001b[0m\u001b[37m\u001b[0m \u001b[1m1s\u001b[0m 619ms/step - loss: 53905.7461 - mae: 222.3394 - val_loss: 64380.2578 - val_mae: 253.7327\n",
            "Epoch 54/100\n",
            "\u001b[1m1/1\u001b[0m \u001b[32m━━━━━━━━━━━━━━━━━━━━\u001b[0m\u001b[37m\u001b[0m \u001b[1m1s\u001b[0m 1s/step - loss: 47690.9531 - mae: 201.0484 - val_loss: 57837.7773 - val_mae: 240.4949\n",
            "Epoch 55/100\n",
            "\u001b[1m1/1\u001b[0m \u001b[32m━━━━━━━━━━━━━━━━━━━━\u001b[0m\u001b[37m\u001b[0m \u001b[1m1s\u001b[0m 629ms/step - loss: 42154.0586 - mae: 193.1783 - val_loss: 51276.9258 - val_mae: 226.4441\n",
            "Epoch 56/100\n",
            "\u001b[1m1/1\u001b[0m \u001b[32m━━━━━━━━━━━━━━━━━━━━\u001b[0m\u001b[37m\u001b[0m \u001b[1m0s\u001b[0m 398ms/step - loss: 27398.5879 - mae: 163.5956 - val_loss: 44755.9297 - val_mae: 211.5560\n",
            "Epoch 57/100\n",
            "\u001b[1m1/1\u001b[0m \u001b[32m━━━━━━━━━━━━━━━━━━━━\u001b[0m\u001b[37m\u001b[0m \u001b[1m1s\u001b[0m 678ms/step - loss: 45788.8320 - mae: 196.3002 - val_loss: 38381.3945 - val_mae: 195.9117\n",
            "Epoch 58/100\n",
            "\u001b[1m1/1\u001b[0m \u001b[32m━━━━━━━━━━━━━━━━━━━━\u001b[0m\u001b[37m\u001b[0m \u001b[1m1s\u001b[0m 607ms/step - loss: 35564.7188 - mae: 174.5926 - val_loss: 32203.4082 - val_mae: 179.4531\n",
            "Epoch 59/100\n",
            "\u001b[1m1/1\u001b[0m \u001b[32m━━━━━━━━━━━━━━━━━━━━\u001b[0m\u001b[37m\u001b[0m \u001b[1m1s\u001b[0m 580ms/step - loss: 35804.8984 - mae: 172.6025 - val_loss: 26301.7070 - val_mae: 162.1780\n",
            "Epoch 60/100\n",
            "\u001b[1m1/1\u001b[0m \u001b[32m━━━━━━━━━━━━━━━━━━━━\u001b[0m\u001b[37m\u001b[0m \u001b[1m1s\u001b[0m 604ms/step - loss: 29846.1484 - mae: 139.5611 - val_loss: 20795.5273 - val_mae: 144.2065\n",
            "Epoch 61/100\n",
            "\u001b[1m1/1\u001b[0m \u001b[32m━━━━━━━━━━━━━━━━━━━━\u001b[0m\u001b[37m\u001b[0m \u001b[1m0s\u001b[0m 418ms/step - loss: 15986.1875 - mae: 110.6773 - val_loss: 15761.4121 - val_mae: 125.5445\n",
            "Epoch 62/100\n",
            "\u001b[1m1/1\u001b[0m \u001b[32m━━━━━━━━━━━━━━━━━━━━\u001b[0m\u001b[37m\u001b[0m \u001b[1m0s\u001b[0m 372ms/step - loss: 13612.8203 - mae: 102.1128 - val_loss: 11285.8398 - val_mae: 106.2348\n",
            "Epoch 63/100\n",
            "\u001b[1m1/1\u001b[0m \u001b[32m━━━━━━━━━━━━━━━━━━━━\u001b[0m\u001b[37m\u001b[0m \u001b[1m0s\u001b[0m 380ms/step - loss: 19935.5371 - mae: 125.2717 - val_loss: 7433.8257 - val_mae: 86.2196\n",
            "Epoch 64/100\n",
            "\u001b[1m1/1\u001b[0m \u001b[32m━━━━━━━━━━━━━━━━━━━━\u001b[0m\u001b[37m\u001b[0m \u001b[1m0s\u001b[0m 429ms/step - loss: 6208.8179 - mae: 70.1077 - val_loss: 4369.6021 - val_mae: 66.1030\n",
            "Epoch 65/100\n",
            "\u001b[1m1/1\u001b[0m \u001b[32m━━━━━━━━━━━━━━━━━━━━\u001b[0m\u001b[37m\u001b[0m \u001b[1m1s\u001b[0m 599ms/step - loss: 8474.2656 - mae: 62.8150 - val_loss: 2128.6138 - val_mae: 46.1369\n",
            "Epoch 66/100\n",
            "\u001b[1m1/1\u001b[0m \u001b[32m━━━━━━━━━━━━━━━━━━━━\u001b[0m\u001b[37m\u001b[0m \u001b[1m0s\u001b[0m 428ms/step - loss: 7612.1392 - mae: 59.3058 - val_loss: 674.6788 - val_mae: 25.9746\n",
            "Epoch 67/100\n",
            "\u001b[1m1/1\u001b[0m \u001b[32m━━━━━━━━━━━━━━━━━━━━\u001b[0m\u001b[37m\u001b[0m \u001b[1m0s\u001b[0m 434ms/step - loss: 3626.4851 - mae: 53.5093 - val_loss: 45.8857 - val_mae: 6.7739\n",
            "Epoch 68/100\n",
            "\u001b[1m1/1\u001b[0m \u001b[32m━━━━━━━━━━━━━━━━━━━━\u001b[0m\u001b[37m\u001b[0m \u001b[1m0s\u001b[0m 200ms/step - loss: 1129.8954 - mae: 32.3310 - val_loss: 104.3486 - val_mae: 10.2151\n",
            "Epoch 69/100\n",
            "\u001b[1m1/1\u001b[0m \u001b[32m━━━━━━━━━━━━━━━━━━━━\u001b[0m\u001b[37m\u001b[0m \u001b[1m0s\u001b[0m 290ms/step - loss: 5172.0020 - mae: 60.8434 - val_loss: 569.9107 - val_mae: 23.8728\n",
            "Epoch 70/100\n",
            "\u001b[1m1/1\u001b[0m \u001b[32m━━━━━━━━━━━━━━━━━━━━\u001b[0m\u001b[37m\u001b[0m \u001b[1m0s\u001b[0m 185ms/step - loss: 5661.5488 - mae: 74.6660 - val_loss: 1378.3879 - val_mae: 37.1266\n",
            "Epoch 71/100\n",
            "\u001b[1m1/1\u001b[0m \u001b[32m━━━━━━━━━━━━━━━━━━━━\u001b[0m\u001b[37m\u001b[0m \u001b[1m0s\u001b[0m 195ms/step - loss: 7721.5503 - mae: 85.5284 - val_loss: 2090.3828 - val_mae: 45.7207\n",
            "Epoch 72/100\n",
            "\u001b[1m1/1\u001b[0m \u001b[32m━━━━━━━━━━━━━━━━━━━━\u001b[0m\u001b[37m\u001b[0m \u001b[1m0s\u001b[0m 295ms/step - loss: 4937.4858 - mae: 63.0066 - val_loss: 2606.4971 - val_mae: 51.0539\n",
            "Epoch 73/100\n",
            "\u001b[1m1/1\u001b[0m \u001b[32m━━━━━━━━━━━━━━━━━━━━\u001b[0m\u001b[37m\u001b[0m \u001b[1m0s\u001b[0m 328ms/step - loss: 11318.1836 - mae: 71.6198 - val_loss: 2921.4771 - val_mae: 54.0507\n",
            "Epoch 74/100\n",
            "\u001b[1m1/1\u001b[0m \u001b[32m━━━━━━━━━━━━━━━━━━━━\u001b[0m\u001b[37m\u001b[0m \u001b[1m0s\u001b[0m 263ms/step - loss: 2562.1125 - mae: 34.5938 - val_loss: 3117.3179 - val_mae: 55.8329\n",
            "Epoch 75/100\n",
            "\u001b[1m1/1\u001b[0m \u001b[32m━━━━━━━━━━━━━━━━━━━━\u001b[0m\u001b[37m\u001b[0m \u001b[1m0s\u001b[0m 314ms/step - loss: 2287.3025 - mae: 40.1012 - val_loss: 3332.9058 - val_mae: 57.7313\n",
            "Epoch 76/100\n",
            "\u001b[1m1/1\u001b[0m \u001b[32m━━━━━━━━━━━━━━━━━━━━\u001b[0m\u001b[37m\u001b[0m \u001b[1m0s\u001b[0m 198ms/step - loss: 2918.7305 - mae: 51.7672 - val_loss: 3327.0415 - val_mae: 57.6805\n",
            "Epoch 77/100\n",
            "\u001b[1m1/1\u001b[0m \u001b[32m━━━━━━━━━━━━━━━━━━━━\u001b[0m\u001b[37m\u001b[0m \u001b[1m0s\u001b[0m 311ms/step - loss: 4199.0327 - mae: 61.2674 - val_loss: 3208.8933 - val_mae: 56.6471\n"
          ]
        }
      ]
    },
    {
      "cell_type": "markdown",
      "source": [
        "# Model Evaluation and Results"
      ],
      "metadata": {
        "id": "8wEJKDXuUFoL"
      }
    },
    {
      "cell_type": "code",
      "source": [
        "# Evaluate the model\n",
        "test_loss, test_mae = model.evaluate(test_images, np.array(test_labels))\n",
        "print(f\"Test Loss: {test_loss}, Test MAE: {test_mae}\")\n",
        "\n",
        "# Predict cell counts\n",
        "predicted_counts = model.predict(test_images)\n",
        "\n",
        "# Compare manual and predicted counts\n",
        "for img, manual_count, pred_count in zip(image_paths, test_labels, predicted_counts):\n",
        "    print(f\"Image: {img}, Manual Count: {manual_count}, Predicted Count: {pred_count[0]}\")"
      ],
      "metadata": {
        "colab": {
          "base_uri": "https://localhost:8080/"
        },
        "id": "94lnizF3USDA",
        "outputId": "183620b4-6422-44dc-bdfc-9da7a0dbfc5a"
      },
      "execution_count": 22,
      "outputs": [
        {
          "output_type": "stream",
          "name": "stdout",
          "text": [
            "\u001b[1m1/1\u001b[0m \u001b[32m━━━━━━━━━━━━━━━━━━━━\u001b[0m\u001b[37m\u001b[0m \u001b[1m0s\u001b[0m 41ms/step - loss: 1042.1182 - mae: 29.0908\n",
            "Test Loss: 1042.1181640625, Test MAE: 29.090805053710938\n",
            "\u001b[1m1/1\u001b[0m \u001b[32m━━━━━━━━━━━━━━━━━━━━\u001b[0m\u001b[37m\u001b[0m \u001b[1m0s\u001b[0m 93ms/step\n",
            "Image: /content/drive/MyDrive/HT29_Colon_Cancer_Images/AS_09125_050118150001_A03f00d0.tif, Manual Count: 356.0, Predicted Count: 371.0964050292969\n",
            "Image: /content/drive/MyDrive/HT29_Colon_Cancer_Images/AS_09125_050118150001_A03f01d0.tif, Manual Count: 339.0, Predicted Count: 382.085205078125\n"
          ]
        }
      ]
    }
  ]
}